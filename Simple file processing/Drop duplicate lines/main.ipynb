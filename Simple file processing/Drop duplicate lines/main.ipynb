{
 "cells": [
  {
   "cell_type": "code",
   "execution_count": 8,
   "metadata": {},
   "outputs": [
    {
     "name": "stdout",
     "output_type": "stream",
     "text": [
      "Original file lines number: 1194\n",
      "Final file lines number: 31\n",
      "24-08-31  19_46_17\n"
     ]
    }
   ],
   "source": [
    "from datetime import datetime\n",
    "import sys\n",
    "import os\n",
    "\n",
    "filename='data.csv'\n",
    "\n",
    "# Verifies y file exists\n",
    "if not os.path.exists(filename):\n",
    "    print(f\"File {filename} does not exists\")\n",
    "    sys.exit()\n",
    "\n",
    "# Drop duplicated lines of a file\n",
    "lines=[]\n",
    "with open(filename,'r',encoding=\"utf-8\") as f:\n",
    "    lines = f.readlines() # read all the lines of the file and save them into a list\n",
    "    print(f\"Original file lines number: {len(lines)}\")\n",
    "    temp = set(lines) # a set removes duplicated\n",
    "    print(f\"Final file lines number: {len(temp)}\")\n",
    "    lines = list(temp) # resultinglist with no duplicated values\n",
    "\n",
    "# Current datetime for file name\n",
    "now=datetime.now().strftime(\"%y-%m-%d  %H_%M_%S\")\n",
    "print(now)\n",
    "\n",
    "# Write the exit\n",
    "with open(now+' out.txt','w',encoding=\"utf-8\") as f:\n",
    "    for line in lines:\n",
    "        f.write(str(line))"
   ]
  }
 ],
 "metadata": {
  "kernelspec": {
   "display_name": "netlogistik",
   "language": "python",
   "name": "python3"
  },
  "language_info": {
   "codemirror_mode": {
    "name": "ipython",
    "version": 3
   },
   "file_extension": ".py",
   "mimetype": "text/x-python",
   "name": "python",
   "nbconvert_exporter": "python",
   "pygments_lexer": "ipython3",
   "version": "3.11.9"
  }
 },
 "nbformat": 4,
 "nbformat_minor": 2
}
